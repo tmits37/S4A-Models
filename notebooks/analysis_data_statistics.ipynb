{
 "cells": [
  {
   "cell_type": "code",
   "execution_count": 79,
   "id": "2654919d-a3b9-4d40-a55f-14604f9aa8a2",
   "metadata": {
    "execution": {
     "iopub.execute_input": "2023-03-07T11:43:09.904354Z",
     "iopub.status.busy": "2023-03-07T11:43:09.903459Z",
     "iopub.status.idle": "2023-03-07T11:43:09.913937Z",
     "shell.execute_reply": "2023-03-07T11:43:09.912415Z",
     "shell.execute_reply.started": "2023-03-07T11:43:09.904295Z"
    },
    "tags": []
   },
   "outputs": [],
   "source": [
    "import os\n",
    "import sys\n",
    "from tqdm import tqdm\n",
    "import numpy as np\n",
    "sys.path.append('..')\n",
    "\n",
    "from utils.PAD_datamodule import PADDataModule\n",
    "from utils.tools import font_colors\n",
    "from utils.settings.config import RANDOM_SEED, CROP_ENCODING, LINEAR_ENCODER, CLASS_WEIGHTS, BANDS\n",
    "\n",
    "import cv2\n",
    "import matplotlib.pyplot as plt"
   ]
  },
  {
   "cell_type": "code",
   "execution_count": 10,
   "id": "bd9b7bdb-c785-4774-8058-5a1437af8f34",
   "metadata": {
    "execution": {
     "iopub.execute_input": "2023-03-07T10:16:59.856226Z",
     "iopub.status.busy": "2023-03-07T10:16:59.855279Z",
     "iopub.status.idle": "2023-03-07T10:16:59.884968Z",
     "shell.execute_reply": "2023-03-07T10:16:59.883590Z",
     "shell.execute_reply.started": "2023-03-07T10:16:59.856158Z"
    },
    "tags": []
   },
   "outputs": [],
   "source": [
    "rootdir = '/home/jovyan/shared_volume/data/newdata'\n",
    "imgdir = os.path.join(rootdir, 'nrgb')\n",
    "labeldir = os.path.join(rootdir, 'label')\n",
    "\n",
    "imglist = os.listdir(imgdir)"
   ]
  },
  {
   "cell_type": "code",
   "execution_count": 15,
   "id": "bcddc358-be7a-4260-a1d3-a710dca03617",
   "metadata": {
    "execution": {
     "iopub.execute_input": "2023-03-07T10:27:57.107010Z",
     "iopub.status.busy": "2023-03-07T10:27:57.106183Z",
     "iopub.status.idle": "2023-03-07T10:27:57.124035Z",
     "shell.execute_reply": "2023-03-07T10:27:57.122739Z",
     "shell.execute_reply.started": "2023-03-07T10:27:57.106953Z"
    },
    "tags": []
   },
   "outputs": [
    {
     "name": "stdout",
     "output_type": "stream",
     "text": [
      "1033 1018 2435\n"
     ]
    }
   ],
   "source": [
    "catalonia_name = ['31TCG', '31TDG', '31TCF', '31TBF', '31TCG', '31TDF']\n",
    "\n",
    "catalonia_filelist = []\n",
    "france_2019_filelist = []\n",
    "for x in imglist:\n",
    "    if x.split('_')[1] in catalonia_name:\n",
    "        catalonia_filelist.append(x)\n",
    "    else:\n",
    "        france_2019_filelist.append(x)\n",
    "        \n",
    "catalonia_2019_filelist = [x for x in catalonia_filelist if '2019' in x]\n",
    "catalonia_2020_filelist = [x for x in catalonia_filelist if '2020' in x]\n",
    "print(len(catalonia_2019_filelist), len(catalonia_2020_filelist), len(france_2019_filelist))"
   ]
  },
  {
   "cell_type": "code",
   "execution_count": 137,
   "id": "0a5a29b8-5f1e-41c3-8c50-f2e128678f44",
   "metadata": {
    "execution": {
     "iopub.execute_input": "2023-03-07T12:04:07.130618Z",
     "iopub.status.busy": "2023-03-07T12:04:07.129755Z",
     "iopub.status.idle": "2023-03-07T12:04:07.138528Z",
     "shell.execute_reply": "2023-03-07T12:04:07.137248Z",
     "shell.execute_reply.started": "2023-03-07T12:04:07.130560Z"
    },
    "tags": []
   },
   "outputs": [],
   "source": [
    "selected_classes = {\n",
    "    '110': 'Wheat',\n",
    "    '120': 'Maize',\n",
    "    '140': 'Sorghum',\n",
    "    '150': 'Barley',\n",
    "    '160': 'Rye',\n",
    "    '170': 'Oats',\n",
    "    '330': 'Grapes',\n",
    "    '435': 'Rapeseed',\n",
    "    '438': 'Sunflower',\n",
    "    '510': 'Potatoes',\n",
    "    '770': 'Peas',\n",
    "}\n"
   ]
  },
  {
   "cell_type": "code",
   "execution_count": 153,
   "id": "4ccf5cf5-d21b-48c5-b1ca-76bd0e0f5919",
   "metadata": {
    "execution": {
     "iopub.execute_input": "2023-03-07T12:15:44.908947Z",
     "iopub.status.busy": "2023-03-07T12:15:44.908007Z",
     "iopub.status.idle": "2023-03-07T12:15:44.924230Z",
     "shell.execute_reply": "2023-03-07T12:15:44.923170Z",
     "shell.execute_reply.started": "2023-03-07T12:15:44.908879Z"
    },
    "tags": []
   },
   "outputs": [],
   "source": [
    "def ndvi(img):\n",
    "    nir = img[:,3]\n",
    "    red = img[:,2]\n",
    "    ndvi = (nir-red) / (nir+red+1e-6)\n",
    "    return ndvi\n",
    "\n",
    "def calc_ndvi(rootdir, filename, pred_code=110):\n",
    "    imgdir = os.path.join(rootdir, 'nrgb')\n",
    "    labeldir = os.path.join(rootdir, 'label')\n",
    "    \n",
    "    img = np.load(os.path.join(imgdir, filename))\n",
    "    \n",
    "    img_ndvi = ndvi(img)\n",
    "\n",
    "    label = np.load(os.path.join(labeldir, filename))\n",
    "\n",
    "    mask = label == 0\n",
    "    kernel = np.ones((3,3), np.uint8)\n",
    "    mask_erode = cv2.dilate(mask.astype('uint8'), kernel)\n",
    "    label[mask_erode==1] = 0\n",
    "    \n",
    "    # label[mask == 1] = 0\n",
    "    \n",
    "    label_mask = label == pred_code\n",
    "    num_of_labelpixel = np.sum(label_mask)\n",
    "    if num_of_labelpixel == 0:\n",
    "        mean_ndvi = np.zeros(12)\n",
    "    else:\n",
    "        mean_ndvi = np.mean(img_ndvi[:,label_mask], axis=1)\n",
    "    return mean_ndvi, num_of_labelpixel\n",
    "\n",
    "def get_mean_trends(filelist, pred_code=110):\n",
    "    ndvis = []\n",
    "    num_pixels = []\n",
    "\n",
    "    for filename in tqdm(filelist):\n",
    "        mean_ndvi, num_of_labelpixel = calc_ndvi(rootdir, filename, pred_code=pred_code)\n",
    "\n",
    "        if num_of_labelpixel == 0:\n",
    "            pass\n",
    "        else:\n",
    "            ndvis.append(mean_ndvi*num_of_labelpixel)\n",
    "            num_pixels.append(num_of_labelpixel)\n",
    "            \n",
    "    ndvis = np.asarray(ndvis)\n",
    "    calc = ndvis / np.array(num_pixels)[:,np.newaxis]\n",
    "    calc_mask = calc > 1\n",
    "    calc[calc_mask] = np.nan\n",
    "    calc_mean = np.nanmean(calc, axis=0)\n",
    "    \n",
    "    return calc_mean"
   ]
  },
  {
   "cell_type": "code",
   "execution_count": 156,
   "id": "e37178dd-0bce-4f62-90f6-f27a026b108f",
   "metadata": {
    "execution": {
     "iopub.execute_input": "2023-03-07T12:29:49.958349Z",
     "iopub.status.busy": "2023-03-07T12:29:49.957074Z",
     "iopub.status.idle": "2023-03-07T12:31:03.297226Z",
     "shell.execute_reply": "2023-03-07T12:31:03.296183Z",
     "shell.execute_reply.started": "2023-03-07T12:29:49.958288Z"
    },
    "tags": []
   },
   "outputs": [
    {
     "name": "stderr",
     "output_type": "stream",
     "text": [
      "100%|██████████| 1033/1033 [00:16<00:00, 62.05it/s]\n",
      "100%|██████████| 1018/1018 [00:16<00:00, 63.14it/s]\n",
      "100%|██████████| 2435/2435 [00:40<00:00, 60.04it/s]\n"
     ]
    }
   ],
   "source": [
    "pred_code = 120 # Wheat\n",
    "catalonia_2019_trends = get_mean_trends(catalonia_2019_filelist, pred_code=pred_code)\n",
    "catalonia_2020_trends = get_mean_trends(catalonia_2020_filelist, pred_code=pred_code)\n",
    "france_2019_trends = get_mean_trends(france_2019_filelist, pred_code=pred_code)"
   ]
  },
  {
   "cell_type": "code",
   "execution_count": 157,
   "id": "f2a01b92-db23-4bbf-a08e-6ddc137a56ff",
   "metadata": {
    "execution": {
     "iopub.execute_input": "2023-03-07T12:31:03.298985Z",
     "iopub.status.busy": "2023-03-07T12:31:03.298623Z",
     "iopub.status.idle": "2023-03-07T12:31:03.458590Z",
     "shell.execute_reply": "2023-03-07T12:31:03.457731Z",
     "shell.execute_reply.started": "2023-03-07T12:31:03.298965Z"
    },
    "tags": []
   },
   "outputs": [
    {
     "data": {
      "image/png": "[encoded data removed]",
      "text/plain": [
       "<Figure size 640x480 with 1 Axes>"
      ]
     },
     "metadata": {},
     "output_type": "display_data"
    }
   ],
   "source": [
    "plt.title(f'mean NDVI Comparison: {selected_classes[str(pred_code)]}')\n",
    "plt.plot(catalonia_2019_trends, label='cat_2019')\n",
    "plt.plot(catalonia_2020_trends, label='cat_2020')\n",
    "plt.plot(france_2019_trends, label='fra_2019')\n",
    "plt.ylim([0, 1])\n",
    "plt.legend()\n",
    "plt.show()"
   ]
  }
 ],
 "metadata": {
  "kernelspec": {
   "display_name": "torch1.9.0-py3.8-cuda11.1",
   "language": "python",
   "name": "torch1.9.0-py3.8-cuda11.1"
  },
  "language_info": {
   "codemirror_mode": {
    "name": "ipython",
    "version": 3
   },
   "file_extension": ".py",
   "mimetype": "text/x-python",
   "name": "python",
   "nbconvert_exporter": "python",
   "pygments_lexer": "ipython3",
   "version": "3.8.10"
  }
 },
 "nbformat": 4,
 "nbformat_minor": 5
}
